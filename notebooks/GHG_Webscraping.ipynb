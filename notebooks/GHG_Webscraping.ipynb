{
 "cells": [
  {
   "cell_type": "markdown",
   "metadata": {},
   "source": [
    "## EPA Flight Database Wescraping"
   ]
  },
  {
   "cell_type": "markdown",
   "metadata": {},
   "source": [
    "Import webscraping libraries"
   ]
  },
  {
   "cell_type": "code",
   "execution_count": 48,
   "metadata": {},
   "outputs": [],
   "source": [
    "import requests\n",
    "from bs4 import BeautifulSoup as BS\n",
    "import os\n",
    "import glob\n",
    "import re\n",
    "\n",
    "# import libraries\n",
    "from selenium import webdriver\n",
    "from selenium.webdriver.chrome.service import Service\n",
    "from selenium.webdriver.chrome.options import Options\n",
    "from selenium.webdriver.common.by import By\n",
    "from selenium.webdriver.support.ui import WebDriverWait\n",
    "from selenium.webdriver.support import expected_conditions as EC\n",
    "import time\n",
    "from time import sleep\n",
    "import time\n",
    "from threading import Thread\n",
    "\n",
    "# import Action chains  \n",
    "from selenium.webdriver.common.action_chains import ActionChains \n",
    "import shutil\n",
    "\n",
    "# import dataframe libraries\n",
    "import pandas as pd\n",
    "import numpy as np\n",
    "from collections import defaultdict # library allows multiple values to be stored under a single key "
   ]
  },
  {
   "cell_type": "markdown",
   "metadata": {},
   "source": [
    "Access flight database"
   ]
  },
  {
   "cell_type": "code",
   "execution_count": 33,
   "metadata": {},
   "outputs": [
    {
     "name": "stdout",
     "output_type": "stream",
     "text": [
      "Modal closed successfully.\n"
     ]
    }
   ],
   "source": [
    "# Setup browser\n",
    "options = Options()\n",
    "options.add_argument(\"--headless\")  # Keep off for debugging\n",
    "driver = webdriver.Chrome(service=Service(), options=options)\n",
    "\n",
    "try:\n",
    "    url = \"https://ghgdata.epa.gov/ghgp/main.do#/facility/?q=Find%20a%20Facility%20or%20Location&st=&bs=&et=&fid=&sf=11001100&lowE=-20000&highE=23000000&g1=1&g2=1&g3=1&g4=1&g5=1&g6=0&g7=1&g8=1&g9=1&g10=1&g11=1&g12=1&s1=1&s2=1&s3=1&s4=1&s5=1&s6=1&s7=1&s8=1&s9=1&s10=1&s201=1&s202=1&s203=1&s204=1&s301=1&s302=1&s303=1&s304=1&s305=1&s306=1&s307=1&s401=1&s402=1&s403=1&s404=1&s405=1&s601=1&s602=1&s701=1&s702=1&s703=1&s704=1&s705=1&s706=1&s707=1&s708=1&s709=1&s710=1&s711=1&s801=1&s802=1&s803=1&s804=1&s805=1&s806=1&s807=1&s808=1&s809=1&s810=1&s901=1&s902=1&s903=1&s904=1&s905=1&s906=1&s907=1&s908=1&s909=1&s910=1&s911=1&si=&ss=&so=0&ds=E&yr=2023&tr=current&cyr=2023&ol=0&sl=0&rs=ALL\"  # your full URL\n",
    "    driver.get(url)\n",
    "\n",
    "    # Wait a moment for modal to appear (up to 15 seconds)\n",
    "    try:\n",
    "        Close_Warning = driver.find_element(By.XPATH, \"/html/body/div[7]/div[2]/div[1]/div[3]/img\").click()\n",
    "        print(\"Modal closed successfully.\")\n",
    "    except Exception as e:\n",
    "        print(\"Modal not found or already dismissed:\", e)\n",
    "\n",
    "    # Get page HTML\n",
    "    html = driver.page_source\n",
    "\n",
    "\n",
    "finally:\n",
    "    driver.quit() "
   ]
  },
  {
   "cell_type": "markdown",
   "metadata": {},
   "source": [
    "Find all sector and subsector data based on html criteria"
   ]
  },
  {
   "cell_type": "code",
   "execution_count": 34,
   "metadata": {},
   "outputs": [],
   "source": [
    "def extract_names(soup_section, style=None, class_list=None):\n",
    "    \"\"\"\n",
    "    Extract only label text (e.g., 'Power Plants') from a section of checkboxes.\n",
    "    \n",
    "    :param soup_section: BeautifulSoup element containing the checkboxes\n",
    "    :param style: optional style string to filter inputs (for sectors)\n",
    "    :param class_list: optional list of class names to filter (for subsectors)\n",
    "    :return: list of label names (strings)\n",
    "    \"\"\"\n",
    "    if not soup_section:\n",
    "        return []\n",
    "\n",
    "    checkboxes = []\n",
    "\n",
    "    if style:\n",
    "        checkboxes = soup_section.find_all('input', style=style)\n",
    "    elif class_list:\n",
    "        for class_name in class_list:\n",
    "            checkboxes.extend(soup_section.find_all('input', class_=class_name))\n",
    "    else:\n",
    "        checkboxes = soup_section.find_all('input', type='checkbox')\n",
    "\n",
    "    names = []\n",
    "    for checkbox in checkboxes:\n",
    "        label = checkbox.find_parent('label')\n",
    "        if label:\n",
    "            label_text = label.get_text(strip=True)\n",
    "            names.append(label_text)\n",
    "\n",
    "    return names"
   ]
  },
  {
   "cell_type": "code",
   "execution_count": 35,
   "metadata": {},
   "outputs": [],
   "source": [
    "s = BS(html, 'html.parser')\n",
    "results = s.find(id='filterSectorPopover')\n",
    "\n",
    "if results:\n",
    "    # Extract top-level sectors\n",
    "    All_Sectors = extract_names(results, style=\"float:left;\")\n",
    "\n",
    "    # Extract Subsectors by known class groups\n",
    "    subsector_classes = [\n",
    "        \"check check_petro\", \"check check_chem\", \"check check_other\",\n",
    "        \"check check_mineral\", \"check check_waste\", \"check check_metal\", \"check check_pulp\"\n",
    "    ]\n",
    "    subsector_names = extract_names(results, class_list=subsector_classes)\n"
   ]
  },
  {
   "cell_type": "markdown",
   "metadata": {},
   "source": [
    "Xpaths for sectors and subsectors"
   ]
  },
  {
   "cell_type": "code",
   "execution_count": 36,
   "metadata": {},
   "outputs": [],
   "source": [
    "value_list = [\n",
    "\"/html/body/div[7]/div[1]/table/tbody/tr[1]/td/div[3]/table/tbody/tr[1]/td[2]/div/table/tbody/tr/td[1]/ul/li[1]/label\",\n",
    "\"/html/body/div[7]/div[1]/table/tbody/tr[1]/td/div[3]/table/tbody/tr[1]/td[2]/div/table/tbody/tr/td[1]/ul/li[2]/label\",\n",
    "\"/html/body/div[7]/div[1]/table/tbody/tr[1]/td/div[3]/table/tbody/tr[1]/td[2]/div/table/tbody/tr/td[2]/ul/li[1]/label\",\n",
    "\"/html/body/div[7]/div[1]/table/tbody/tr[1]/td/div[3]/table/tbody/tr[1]/td[2]/div/table/tbody/tr/td[2]/ul/li[2]/label\",\n",
    "\"/html/body/div[7]/div[1]/table/tbody/tr[1]/td/div[3]/table/tbody/tr[1]/td[2]/div/table/tbody/tr/td[3]/ul/li[1]/label\",\n",
    "\"/html/body/div[7]/div[1]/table/tbody/tr[1]/td/div[3]/table/tbody/tr[1]/td[2]/div/table/tbody/tr/td[3]/ul/li[2]/label\",\n",
    "\"/html/body/div[7]/div[1]/table/tbody/tr[1]/td/div[3]/table/tbody/tr[1]/td[2]/div/table/tbody/tr/td[4]/ul/li[1]/label\",\n",
    "\"/html/body/div[7]/div[1]/table/tbody/tr[1]/td/div[3]/table/tbody/tr[1]/td[2]/div/table/tbody/tr/td[4]/ul/li[2]/label\",\n",
    "\"/html/body/div[7]/div[1]/table/tbody/tr[1]/td/div[3]/table/tbody/tr[1]/td[2]/div/table/tbody/tr/td[4]/ul/li[3]/label\"]"
   ]
  },
  {
   "cell_type": "code",
   "execution_count": 37,
   "metadata": {},
   "outputs": [],
   "source": [
    "subsector_list =[\n",
    "    # Pretroleum and Natural Gas Systems\n",
    "\"/html/body/div[7]/div[1]/table/tbody/tr[1]/td/div[3]/table/tbody/tr[1]/td[2]/div/table/tbody/tr/td[1]/ul/div/li[1]/label\",\n",
    "\"/html/body/div[7]/div[1]/table/tbody/tr[1]/td/div[3]/table/tbody/tr[1]/td[2]/div/table/tbody/tr/td[1]/ul/div/li[2]/label\",\n",
    "\"/html/body/div[7]/div[1]/table/tbody/tr[1]/td/div[3]/table/tbody/tr[1]/td[2]/div/table/tbody/tr/td[1]/ul/div/span[1]/li/label\",\n",
    "\"/html/body/div[7]/div[1]/table/tbody/tr[1]/td/div[3]/table/tbody/tr[1]/td[2]/div/table/tbody/tr/td[1]/ul/div/li[3]/label\",\n",
    "\"/html/body/div[7]/div[1]/table/tbody/tr[1]/td/div[3]/table/tbody/tr[1]/td[2]/div/table/tbody/tr/td[1]/ul/div/li[4]/label\",\n",
    "\"/html/body/div[7]/div[1]/table/tbody/tr[1]/td/div[3]/table/tbody/tr[1]/td[2]/div/table/tbody/tr/td[1]/ul/div/span[2]/li/label\",\n",
    "\"/html/body/div[7]/div[1]/table/tbody/tr[1]/td/div[3]/table/tbody/tr[1]/td[2]/div/table/tbody/tr/td[1]/ul/div/li[5]/label\",\n",
    "\"/html/body/div[7]/div[1]/table/tbody/tr[1]/td/div[3]/table/tbody/tr[1]/td[2]/div/table/tbody/tr/td[1]/ul/div/li[6]/label\",\n",
    "\"/html/body/div[7]/div[1]/table/tbody/tr[1]/td/div[3]/table/tbody/tr[1]/td[2]/div/table/tbody/tr/td[1]/ul/div/li[7]/label\",\n",
    "\"/html/body/div[7]/div[1]/table/tbody/tr[1]/td/div[3]/table/tbody/tr[1]/td[2]/div/table/tbody/tr/td[1]/ul/div/li[8]/label\",\n",
    "\"/html/body/div[7]/div[1]/table/tbody/tr[1]/td/div[3]/table/tbody/tr[1]/td[2]/div/table/tbody/tr/td[1]/ul/div/li[9]/label\",\n",
    "\n",
    "\n",
    "# Chemicals\n",
    "\"/html/body/div[7]/div[1]/table/tbody/tr[1]/td/div[3]/table/tbody/tr[1]/td[2]/div/table/tbody/tr/td[2]/ul/div/li[1]/label\",\n",
    "\"/html/body/div[7]/div[1]/table/tbody/tr[1]/td/div[3]/table/tbody/tr[1]/td[2]/div/table/tbody/tr/td[2]/ul/div/li[2]/label\",\n",
    "\"/html/body/div[7]/div[1]/table/tbody/tr[1]/td/div[3]/table/tbody/tr[1]/td[2]/div/table/tbody/tr/td[2]/ul/div/li[3]/label\",\n",
    "\"/html/body/div[7]/div[1]/table/tbody/tr[1]/td/div[3]/table/tbody/tr[1]/td[2]/div/table/tbody/tr/td[2]/ul/div/li[4]/label\",\n",
    "\"/html/body/div[7]/div[1]/table/tbody/tr[1]/td/div[3]/table/tbody/tr[1]/td[2]/div/table/tbody/tr/td[2]/ul/div/li[5]/label\",\n",
    "\"/html/body/div[7]/div[1]/table/tbody/tr[1]/td/div[3]/table/tbody/tr[1]/td[2]/div/table/tbody/tr/td[2]/ul/div/li[6]/label\",\n",
    "\"/html/body/div[7]/div[1]/table/tbody/tr[1]/td/div[3]/table/tbody/tr[1]/td[2]/div/table/tbody/tr/td[2]/ul/div/li[7]/label\",\n",
    "\"/html/body/div[7]/div[1]/table/tbody/tr[1]/td/div[3]/table/tbody/tr[1]/td[2]/div/table/tbody/tr/td[2]/ul/div/li[8]/label\",\n",
    "\"/html/body/div[7]/div[1]/table/tbody/tr[1]/td/div[3]/table/tbody/tr[1]/td[2]/div/table/tbody/tr/td[2]/ul/div/li[9]/label\",\n",
    "\"/html/body/div[7]/div[1]/table/tbody/tr[1]/td/div[3]/table/tbody/tr[1]/td[2]/div/table/tbody/tr/td[2]/ul/div/li[10]/label\",\n",
    "\"/html/body/div[7]/div[1]/table/tbody/tr[1]/td/div[3]/table/tbody/tr[1]/td[2]/div/table/tbody/tr/td[2]/ul/div/li[11]/label\",\n",
    "\n",
    "# Other \n",
    "\"/html/body/div[7]/div[1]/table/tbody/tr[1]/td/div[3]/table/tbody/tr[1]/td[2]/div/table/tbody/tr/td[3]/ul/div[1]/li[1]/label\",\n",
    "\"/html/body/div[7]/div[1]/table/tbody/tr[1]/td/div[3]/table/tbody/tr[1]/td[2]/div/table/tbody/tr/td[3]/ul/div[1]/li[2]/label\",\n",
    "\"/html/body/div[7]/div[1]/table/tbody/tr[1]/td/div[3]/table/tbody/tr[1]/td[2]/div/table/tbody/tr/td[3]/ul/div[1]/li[3]/label\",\n",
    "\"/html/body/div[7]/div[1]/table/tbody/tr[1]/td/div[3]/table/tbody/tr[1]/td[2]/div/table/tbody/tr/td[3]/ul/div[1]/li[4]/label\",\n",
    "\"/html/body/div[7]/div[1]/table/tbody/tr[1]/td/div[3]/table/tbody/tr[1]/td[2]/div/table/tbody/tr/td[3]/ul/div[1]/li[5]/label\",\n",
    "\"/html/body/div[7]/div[1]/table/tbody/tr[1]/td/div[3]/table/tbody/tr[1]/td[2]/div/table/tbody/tr/td[3]/ul/div[1]/li[6]/label\",\n",
    "\"/html/body/div[7]/div[1]/table/tbody/tr[1]/td/div[3]/table/tbody/tr[1]/td[2]/div/table/tbody/tr/td[3]/ul/div[1]/li[7]/label\",\n",
    "\"/html/body/div[7]/div[1]/table/tbody/tr[1]/td/div[3]/table/tbody/tr[1]/td[2]/div/table/tbody/tr/td[3]/ul/div[1]/li[8]/label\",\n",
    "\"/html/body/div[7]/div[1]/table/tbody/tr[1]/td/div[3]/table/tbody/tr[1]/td[2]/div/table/tbody/tr/td[3]/ul/div[1]/li[9]/label\",\n",
    "\"/html/body/div[7]/div[1]/table/tbody/tr[1]/td/div[3]/table/tbody/tr[1]/td[2]/div/table/tbody/tr/td[3]/ul/div[1]/li[10]/label\",\n",
    "\n",
    "# Minerals\n",
    "\"/html/body/div[7]/div[1]/table/tbody/tr[1]/td/div[3]/table/tbody/tr[1]/td[2]/div/table/tbody/tr/td[3]/ul/div[2]/li[1]/label\",\n",
    "\"/html/body/div[7]/div[1]/table/tbody/tr[1]/td/div[3]/table/tbody/tr[1]/td[2]/div/table/tbody/tr/td[3]/ul/div[2]/li[2]/label\",\n",
    "\"/html/body/div[7]/div[1]/table/tbody/tr[1]/td/div[3]/table/tbody/tr[1]/td[2]/div/table/tbody/tr/td[3]/ul/div[2]/li[3]/label\",\n",
    "\"/html/body/div[7]/div[1]/table/tbody/tr[1]/td/div[3]/table/tbody/tr[1]/td[2]/div/table/tbody/tr/td[3]/ul/div[2]/li[4]/label\",\n",
    "\"/html/body/div[7]/div[1]/table/tbody/tr[1]/td/div[3]/table/tbody/tr[1]/td[2]/div/table/tbody/tr/td[3]/ul/div[2]/li[5]/label\",\n",
    "\n",
    "# Waste\n",
    "\"/html/body/div[7]/div[1]/table/tbody/tr[1]/td/div[3]/table/tbody/tr[1]/td[2]/div/table/tbody/tr/td[4]/ul/div[1]/li[1]/label\",\n",
    "\"/html/body/div[7]/div[1]/table/tbody/tr[1]/td/div[3]/table/tbody/tr[1]/td[2]/div/table/tbody/tr/td[4]/ul/div[1]/li[2]/label\",\n",
    "\"/html/body/div[7]/div[1]/table/tbody/tr[1]/td/div[3]/table/tbody/tr[1]/td[2]/div/table/tbody/tr/td[4]/ul/div[1]/li[3]/label\",\n",
    "\"/html/body/div[7]/div[1]/table/tbody/tr[1]/td/div[3]/table/tbody/tr[1]/td[2]/div/table/tbody/tr/td[4]/ul/div[1]/li[4]/label\",\n",
    "\n",
    "# Metals\n",
    "\"/html/body/div[7]/div[1]/table/tbody/tr[1]/td/div[3]/table/tbody/tr[1]/td[2]/div/table/tbody/tr/td[4]/ul/div[2]/li[1]/label\",\n",
    "\"/html/body/div[7]/div[1]/table/tbody/tr[1]/td/div[3]/table/tbody/tr[1]/td[2]/div/table/tbody/tr/td[4]/ul/div[2]/li[2]/label\",\n",
    "\"/html/body/div[7]/div[1]/table/tbody/tr[1]/td/div[3]/table/tbody/tr[1]/td[2]/div/table/tbody/tr/td[4]/ul/div[2]/li[3]/label\",\n",
    "\"/html/body/div[7]/div[1]/table/tbody/tr[1]/td/div[3]/table/tbody/tr[1]/td[2]/div/table/tbody/tr/td[4]/ul/div[2]/li[4]/label\",\n",
    "\"/html/body/div[7]/div[1]/table/tbody/tr[1]/td/div[3]/table/tbody/tr[1]/td[2]/div/table/tbody/tr/td[4]/ul/div[2]/li[5]/label\",\n",
    "\"/html/body/div[7]/div[1]/table/tbody/tr[1]/td/div[3]/table/tbody/tr[1]/td[2]/div/table/tbody/tr/td[4]/ul/div[2]/li[6]/label\",\n",
    "\"/html/body/div[7]/div[1]/table/tbody/tr[1]/td/div[3]/table/tbody/tr[1]/td[2]/div/table/tbody/tr/td[4]/ul/div[2]/li[7]/label\",\n",
    "\n",
    "# Pulp and Paper\n",
    "\"/html/body/div[7]/div[1]/table/tbody/tr[1]/td/div[3]/table/tbody/tr[1]/td[2]/div/table/tbody/tr/td[4]/ul/div[3]/li[1]/label\",\n",
    "\"/html/body/div[7]/div[1]/table/tbody/tr[1]/td/div[3]/table/tbody/tr[1]/td[2]/div/table/tbody/tr/td[4]/ul/div[3]/li[2]/label\"\n",
    "]"
   ]
  },
  {
   "cell_type": "markdown",
   "metadata": {},
   "source": [
    "Set up directories for GHG flight datasets"
   ]
  },
  {
   "cell_type": "code",
   "execution_count": 38,
   "metadata": {},
   "outputs": [],
   "source": [
    "def get_project_root():\n",
    "    \"\"\"\n",
    "    Sets working directory to the notebook's location and returns the project root\n",
    "    (assumes the notebook is inside the /notebooks directory of your project).\n",
    "    \"\"\"\n",
    "    try:\n",
    "        # Use IPython magic to get the notebook's current directory\n",
    "        from IPython import get_ipython\n",
    "        ipython = get_ipython()\n",
    "\n",
    "        if ipython:\n",
    "            notebook_dir = ipython.run_line_magic(\"pwd\", \"\")\n",
    "            os.chdir(notebook_dir)\n",
    "            print(f\"Working directory set to: {notebook_dir}\")\n",
    "    except Exception as e:\n",
    "        print(f\"Warning: Failed to change working directory: {e}\")\n",
    "\n",
    "    # Project root is assumed to be one level up from notebooks/\n",
    "    return os.path.abspath(os.path.join(os.getcwd(), '..'))\n",
    "def create_output_dirs(base_dir, subfolders):\n",
    "    \"\"\"\n",
    "    Create data output subfolders like Sector and Subsector inside processed/.\n",
    "\n",
    "    :param base_dir: base path where to create folders (e.g. data/processed)\n",
    "    :param subfolders: list of folder names\n",
    "    :return: dict of full paths {folder_name: full_path}\n",
    "    \"\"\"\n",
    "    os.makedirs(base_dir, exist_ok=True)\n",
    "    paths = {}\n",
    "    for folder in subfolders:\n",
    "        path = os.path.join(base_dir, folder)\n",
    "        os.makedirs(path, exist_ok=True)\n",
    "        paths[folder] = path\n",
    "    return paths"
   ]
  },
  {
   "cell_type": "code",
   "execution_count": 39,
   "metadata": {},
   "outputs": [
    {
     "name": "stdout",
     "output_type": "stream",
     "text": [
      "Working directory set to: c:\\Users\\jayja\\Documents\\projects\\ghg_explorer\\ghg_explorer\\notebooks\n"
     ]
    }
   ],
   "source": [
    "# Get base path to project (assumes notebook lives in notebooks/)\n",
    "project_root = get_project_root()\n",
    "# # Create output directories\n",
    "processed_data_root = os.path.join(project_root, 'data', 'raw')\n",
    "subfolders = ['Sector', 'Subsector']\n",
    "\n",
    "# Create output directories\n",
    "paths = create_output_dirs(processed_data_root, subfolders)\n",
    "\n",
    "# Sector folder \n",
    "sector_folder = paths['Sector']\n",
    "# Subsector folder\n",
    "subsector_folder = paths['Subsector']\n"
   ]
  },
  {
   "cell_type": "code",
   "execution_count": 40,
   "metadata": {},
   "outputs": [],
   "source": [
    "# Setup path to download folder\n",
    "home = os.path.expanduser('~')\n",
    "path = os.path.join(home, 'Downloads')"
   ]
  },
  {
   "cell_type": "markdown",
   "metadata": {},
   "source": [
    "Sector Data Download\n"
   ]
  },
  {
   "cell_type": "code",
   "execution_count": null,
   "metadata": {},
   "outputs": [],
   "source": [
    "# Chrome Driver\n",
    "driver = webdriver.Chrome()\n",
    "driver.get(url)\n",
    "\n",
    "Close_Warning = driver.find_element(By.XPATH, \"/html/body/div[7]/div[2]/div[1]/div[3]/img\").click()\n",
    "Filter_Btn = driver.find_element(By.XPATH, \"/html/body/div[7]/div[1]/table/tbody/tr[1]/td/div[3]/table/tbody/tr[1]/td[2]/button\")\n",
    "Deselect_All = driver.find_element(By.XPATH, \"/html/body/div[7]/div[1]/table/tbody/tr[1]/td/div[3]/table/tbody/tr[1]/td[2]/div/input[2]\")\n",
    "\n",
    "Filter_Btn.click()\n",
    "Deselect_All.click()\n",
    "\n",
    "for value in value_list:\n",
    "    \n",
    "    Values_Sector = driver.find_element(By.XPATH, value).click()\n",
    "\n",
    "    Export_Data = driver.find_element(By.XPATH, \"/html/body/div[7]/div[1]/div[2]/div[3]/span/div/input[2]\").click()\n",
    "    All_Reporting_Year = driver.find_element(By.XPATH, \"/html/body/div[7]/div[1]/div[2]/div[3]/span/div/div/a[2]\").click()\n",
    "    ActionChains(driver).move_to_element(Filter_Btn).click(Filter_Btn).perform()\n",
    "    ActionChains(driver).move_to_element(Deselect_All).click(Deselect_All).perform()\n",
    "    time.sleep(2) \n",
    "    \n",
    "driver.quit()"
   ]
  },
  {
   "cell_type": "markdown",
   "metadata": {},
   "source": [
    "List of sector excel files downloaded in to downloads folder"
   ]
  },
  {
   "cell_type": "code",
   "execution_count": 42,
   "metadata": {},
   "outputs": [
    {
     "name": "stdout",
     "output_type": "stream",
     "text": [
      "Renamed C:\\Users\\jayja\\Downloads\\flight.xls to C:\\Users\\jayja\\Downloads\\Power Plants.xls\n",
      "Renamed C:\\Users\\jayja\\Downloads\\flight (2).xls to C:\\Users\\jayja\\Downloads\\Petroleum and Natural Gas Systems.xls\n",
      "Renamed C:\\Users\\jayja\\Downloads\\flight (1).xls to C:\\Users\\jayja\\Downloads\\Refineries.xls\n",
      "Renamed C:\\Users\\jayja\\Downloads\\flight (3).xls to C:\\Users\\jayja\\Downloads\\Chemicals.xls\n",
      "Renamed C:\\Users\\jayja\\Downloads\\flight (4).xls to C:\\Users\\jayja\\Downloads\\Other.xls\n",
      "Renamed C:\\Users\\jayja\\Downloads\\flight (5).xls to C:\\Users\\jayja\\Downloads\\Minerals.xls\n",
      "Renamed C:\\Users\\jayja\\Downloads\\flight (6).xls to C:\\Users\\jayja\\Downloads\\Waste.xls\n",
      "Renamed C:\\Users\\jayja\\Downloads\\flight (7).xls to C:\\Users\\jayja\\Downloads\\Metals.xls\n",
      "Renamed C:\\Users\\jayja\\Downloads\\flight (8).xls to C:\\Users\\jayja\\Downloads\\Pulp and Paper.xls\n"
     ]
    }
   ],
   "source": [
    "# Get list of all .xls files in Downloads folder\n",
    "xls_files = glob.glob(os.path.join(path, \"*.xls\"))\n",
    "\n",
    "# Sort by modification time (latest last)\n",
    "xls_files.sort(key=os.path.getmtime, reverse=True)\n",
    "\n",
    "# Select only the most recent N files, where N = number of sectors selected\n",
    "recent_files = xls_files[:len(All_Sectors)]  # All_Sectors must come from BeautifulSoup\n",
    "\n",
    "# Reverse to align with sector iteration order (since you downloaded in sequence)\n",
    "recent_files.reverse()\n",
    "\n",
    "# Rename based on sector/subsector name\n",
    "for i, sector in enumerate(All_Sectors):\n",
    "    original = recent_files[i]\n",
    "    renamed = os.path.join(path, f\"{sector}.xls\")\n",
    "\n",
    "    try:\n",
    "        os.rename(original, renamed)\n",
    "        print(f\"Renamed {original} to {renamed}\")\n",
    "    except Exception as e:\n",
    "        print(f\"Error renaming file: {e}\")"
   ]
  },
  {
   "cell_type": "code",
   "execution_count": 43,
   "metadata": {},
   "outputs": [
    {
     "name": "stdout",
     "output_type": "stream",
     "text": [
      "Saved modified file to: c:\\Users\\jayja\\Documents\\projects\\ghg_explorer\\ghg_explorer\\data\\raw\\Sector\\Pulp and Paper.xlsx\n",
      "Saved modified file to: c:\\Users\\jayja\\Documents\\projects\\ghg_explorer\\ghg_explorer\\data\\raw\\Sector\\Metals.xlsx\n",
      "Saved modified file to: c:\\Users\\jayja\\Documents\\projects\\ghg_explorer\\ghg_explorer\\data\\raw\\Sector\\Waste.xlsx\n",
      "Saved modified file to: c:\\Users\\jayja\\Documents\\projects\\ghg_explorer\\ghg_explorer\\data\\raw\\Sector\\Minerals.xlsx\n",
      "Saved modified file to: c:\\Users\\jayja\\Documents\\projects\\ghg_explorer\\ghg_explorer\\data\\raw\\Sector\\Other.xlsx\n",
      "Saved modified file to: c:\\Users\\jayja\\Documents\\projects\\ghg_explorer\\ghg_explorer\\data\\raw\\Sector\\Chemicals.xlsx\n",
      "Saved modified file to: c:\\Users\\jayja\\Documents\\projects\\ghg_explorer\\ghg_explorer\\data\\raw\\Sector\\Refineries.xlsx\n",
      "Saved modified file to: c:\\Users\\jayja\\Documents\\projects\\ghg_explorer\\ghg_explorer\\data\\raw\\Sector\\Petroleum and Natural Gas Systems.xlsx\n",
      "Saved modified file to: c:\\Users\\jayja\\Documents\\projects\\ghg_explorer\\ghg_explorer\\data\\raw\\Sector\\Power Plants.xlsx\n"
     ]
    }
   ],
   "source": [
    "# Get list of all .xls files in Downloads folder\n",
    "list_of_files = glob.glob(os.path.join(path, \"*.xls\"))\n",
    "\n",
    "# Sort by modification time (latest last)\n",
    "list_of_files.sort(key=os.path.getmtime, reverse=True)\n",
    "\n",
    "for file in list_of_files:\n",
    "    file_name = os.path.splitext(os.path.basename(file))[0]\n",
    "    all_df = pd.read_excel(file, header=6,sheet_name=None)\n",
    "\n",
    "    combined_sheet = []\n",
    "    for sheet,df in all_df.items():\n",
    "        # Add a column for the sheet name\n",
    "        df[\"INDUSTRY TYPE\"] = file_name\n",
    "        combined_sheet.append(df)  \n",
    "\n",
    "    combined_df = pd.concat(combined_sheet, ignore_index=True)\n",
    "\n",
    "    excel_path = os.path.join(sector_folder, f\"{file_name}.xlsx\")\n",
    "    combined_df.to_excel(excel_path, index=False)\n",
    "    print(f\"Saved modified file to: {excel_path}\")\n",
    "    # Optionally delete original\n",
    "    os.remove(file)  # Only if you're sure!"
   ]
  },
  {
   "cell_type": "markdown",
   "metadata": {},
   "source": [
    "Subsector Data Download"
   ]
  },
  {
   "cell_type": "code",
   "execution_count": 46,
   "metadata": {},
   "outputs": [],
   "source": [
    "# Chrome Driver\n",
    "\n",
    "# Setup browser\n",
    "# options = Options()\n",
    "# # options.add_argument(\"--headless\")  # Keep off for debugging\n",
    "# driver = webdriver.Chrome(service=Service(), options=options)\n",
    "# driver.get(url)\n",
    "\n",
    "driver = webdriver.Chrome()\n",
    "driver.get(url)\n",
    "\n",
    "Close_Warning = driver.find_element(By.XPATH, \"/html/body/div[7]/div[2]/div[1]/div[3]/img\").click()\n",
    "Filter_Btn = driver.find_element(By.XPATH, \"/html/body/div[7]/div[1]/table/tbody/tr[1]/td/div[3]/table/tbody/tr[1]/td[2]/button\")\n",
    "Deselect_All = driver.find_element(By.XPATH, \"/html/body/div[7]/div[1]/table/tbody/tr[1]/td/div[3]/table/tbody/tr[1]/td[2]/div/input[2]\")\n",
    "\n",
    "Filter_Btn.click()\n",
    "Deselect_All.click()\n",
    "\n",
    "for value in subsector_list:\n",
    "    \n",
    "    Values_Sector = driver.find_element(By.XPATH, value).click()\n",
    "\n",
    "    Export_Data = driver.find_element(By.XPATH, \"/html/body/div[7]/div[1]/div[2]/div[3]/span/div/input[2]\").click()\n",
    "    All_Reporting_Year = driver.find_element(By.XPATH, \"/html/body/div[7]/div[1]/div[2]/div[3]/span/div/div/a[2]\").click()\n",
    "    ActionChains(driver).move_to_element(Filter_Btn).click(Filter_Btn).perform()\n",
    "    ActionChains(driver).move_to_element(Deselect_All).click(Deselect_All).perform()\n",
    "    time.sleep(2) \n",
    "    \n",
    "driver.quit()"
   ]
  },
  {
   "cell_type": "markdown",
   "metadata": {},
   "source": [
    "List of subsector excel files downloaded in to downloads folder"
   ]
  },
  {
   "cell_type": "code",
   "execution_count": 53,
   "metadata": {},
   "outputs": [],
   "source": [
    "def sanitize_filename(name):\n",
    "    # Replace forbidden characters with underscores\n",
    "    name = re.sub(r'[\\\\/*?:\"<>|]', \"_\", name)\n",
    "    # Remove periods\n",
    "    name = name.replace('.', '')\n",
    "    return name"
   ]
  },
  {
   "cell_type": "code",
   "execution_count": 54,
   "metadata": {},
   "outputs": [
    {
     "name": "stdout",
     "output_type": "stream",
     "text": [
      "Renamed C:\\Users\\jayja\\Downloads\\Offshore Petroleum & Natural Gas Production.xls to C:\\Users\\jayja\\Downloads\\Offshore Petroleum & Natural Gas Production.xls\n",
      "Renamed C:\\Users\\jayja\\Downloads\\Onshore Petroleum & Natural Gas Production.xls to C:\\Users\\jayja\\Downloads\\Onshore Petroleum & Natural Gas Production.xls\n",
      "Renamed C:\\Users\\jayja\\Downloads\\Onshore Petroleum & Natural Gas Gathering & Boosting.xls to C:\\Users\\jayja\\Downloads\\Onshore Petroleum & Natural Gas Gathering & Boosting.xls\n",
      "Renamed C:\\Users\\jayja\\Downloads\\Natural Gas Processing.xls to C:\\Users\\jayja\\Downloads\\Natural Gas Processing.xls\n",
      "Renamed C:\\Users\\jayja\\Downloads\\Natural Gas Transmission_Compression.xls to C:\\Users\\jayja\\Downloads\\Natural Gas Transmission_Compression.xls\n",
      "Renamed C:\\Users\\jayja\\Downloads\\Onshore Natural Gas Transmission Pipelines.xls to C:\\Users\\jayja\\Downloads\\Onshore Natural Gas Transmission Pipelines.xls\n",
      "Renamed C:\\Users\\jayja\\Downloads\\Natural Gas Local Distribution Companies.xls to C:\\Users\\jayja\\Downloads\\Natural Gas Local Distribution Companies.xls\n",
      "Renamed C:\\Users\\jayja\\Downloads\\Underground Natural Gas Storage.xls to C:\\Users\\jayja\\Downloads\\Underground Natural Gas Storage.xls\n",
      "Renamed C:\\Users\\jayja\\Downloads\\Liquefied Natural Gas Storage.xls to C:\\Users\\jayja\\Downloads\\Liquefied Natural Gas Storage.xls\n",
      "Renamed C:\\Users\\jayja\\Downloads\\Liquefied Natural Gas Imp_Exp Equipment.xls to C:\\Users\\jayja\\Downloads\\Liquefied Natural Gas Imp_Exp Equipment.xls\n",
      "Renamed C:\\Users\\jayja\\Downloads\\Other Petroleum & Natural Gas Systems.xls to C:\\Users\\jayja\\Downloads\\Other Petroleum & Natural Gas Systems.xls\n",
      "Renamed C:\\Users\\jayja\\Downloads\\Adipic Acid Production.xls to C:\\Users\\jayja\\Downloads\\Adipic Acid Production.xls\n",
      "Renamed C:\\Users\\jayja\\Downloads\\Ammonia Manufacturing.xls to C:\\Users\\jayja\\Downloads\\Ammonia Manufacturing.xls\n",
      "Renamed C:\\Users\\jayja\\Downloads\\Fluorinated GHG Production.xls to C:\\Users\\jayja\\Downloads\\Fluorinated GHG Production.xls\n",
      "Renamed C:\\Users\\jayja\\Downloads\\HCFC-22 Prod._HFC-23 Dest..xls to C:\\Users\\jayja\\Downloads\\HCFC-22 Prod_HFC-23 Dest.xls\n",
      "Renamed C:\\Users\\jayja\\Downloads\\Hydrogen Production.xls to C:\\Users\\jayja\\Downloads\\Hydrogen Production.xls\n",
      "Renamed C:\\Users\\jayja\\Downloads\\Nitric Acid Production.xls to C:\\Users\\jayja\\Downloads\\Nitric Acid Production.xls\n",
      "Renamed C:\\Users\\jayja\\Downloads\\Petrochemical Production.xls to C:\\Users\\jayja\\Downloads\\Petrochemical Production.xls\n",
      "Renamed C:\\Users\\jayja\\Downloads\\Phosphoric Acid Production.xls to C:\\Users\\jayja\\Downloads\\Phosphoric Acid Production.xls\n",
      "Renamed C:\\Users\\jayja\\Downloads\\Silicon Carbide Production.xls to C:\\Users\\jayja\\Downloads\\Silicon Carbide Production.xls\n",
      "Renamed C:\\Users\\jayja\\Downloads\\Titanium Dioxide Production.xls to C:\\Users\\jayja\\Downloads\\Titanium Dioxide Production.xls\n",
      "Renamed C:\\Users\\jayja\\Downloads\\Other Chemicals.xls to C:\\Users\\jayja\\Downloads\\Other Chemicals.xls\n",
      "Renamed C:\\Users\\jayja\\Downloads\\Underground Coal Mines.xls to C:\\Users\\jayja\\Downloads\\Underground Coal Mines.xls\n",
      "Renamed C:\\Users\\jayja\\Downloads\\Food Processing.xls to C:\\Users\\jayja\\Downloads\\Food Processing.xls\n",
      "Renamed C:\\Users\\jayja\\Downloads\\Ethanol Production.xls to C:\\Users\\jayja\\Downloads\\Ethanol Production.xls\n",
      "Renamed C:\\Users\\jayja\\Downloads\\Universities.xls to C:\\Users\\jayja\\Downloads\\Universities.xls\n",
      "Renamed C:\\Users\\jayja\\Downloads\\Manufacturing.xls to C:\\Users\\jayja\\Downloads\\Manufacturing.xls\n",
      "Renamed C:\\Users\\jayja\\Downloads\\Military.xls to C:\\Users\\jayja\\Downloads\\Military.xls\n",
      "Renamed C:\\Users\\jayja\\Downloads\\Use of Electical Equipment.xls to C:\\Users\\jayja\\Downloads\\Use of Electical Equipment.xls\n",
      "Renamed C:\\Users\\jayja\\Downloads\\Electronics Manufacturing.xls to C:\\Users\\jayja\\Downloads\\Electronics Manufacturing.xls\n",
      "Renamed C:\\Users\\jayja\\Downloads\\Electrical Equipment Manufacturers.xls to C:\\Users\\jayja\\Downloads\\Electrical Equipment Manufacturers.xls\n",
      "Renamed C:\\Users\\jayja\\Downloads\\Other.xls to C:\\Users\\jayja\\Downloads\\Other.xls\n",
      "Renamed C:\\Users\\jayja\\Downloads\\Cement Production.xls to C:\\Users\\jayja\\Downloads\\Cement Production.xls\n",
      "Renamed C:\\Users\\jayja\\Downloads\\Glass Production.xls to C:\\Users\\jayja\\Downloads\\Glass Production.xls\n",
      "Renamed C:\\Users\\jayja\\Downloads\\Lime Manufacturing.xls to C:\\Users\\jayja\\Downloads\\Lime Manufacturing.xls\n",
      "Renamed C:\\Users\\jayja\\Downloads\\Soda Ash Manufacturing.xls to C:\\Users\\jayja\\Downloads\\Soda Ash Manufacturing.xls\n",
      "Renamed C:\\Users\\jayja\\Downloads\\Other Minerals.xls to C:\\Users\\jayja\\Downloads\\Other Minerals.xls\n",
      "Renamed C:\\Users\\jayja\\Downloads\\Municipal Landfills.xls to C:\\Users\\jayja\\Downloads\\Municipal Landfills.xls\n",
      "Renamed C:\\Users\\jayja\\Downloads\\Industrial Landfills.xls to C:\\Users\\jayja\\Downloads\\Industrial Landfills.xls\n",
      "Renamed C:\\Users\\jayja\\Downloads\\Wastewater Treatment.xls to C:\\Users\\jayja\\Downloads\\Wastewater Treatment.xls\n",
      "Renamed C:\\Users\\jayja\\Downloads\\Solid Waste Combustion.xls to C:\\Users\\jayja\\Downloads\\Solid Waste Combustion.xls\n",
      "Renamed C:\\Users\\jayja\\Downloads\\Aluminum Production.xls to C:\\Users\\jayja\\Downloads\\Aluminum Production.xls\n",
      "Renamed C:\\Users\\jayja\\Downloads\\Ferroalloy Production.xls to C:\\Users\\jayja\\Downloads\\Ferroalloy Production.xls\n",
      "Renamed C:\\Users\\jayja\\Downloads\\Iron & Steel Production.xls to C:\\Users\\jayja\\Downloads\\Iron & Steel Production.xls\n",
      "Renamed C:\\Users\\jayja\\Downloads\\Lead Production.xls to C:\\Users\\jayja\\Downloads\\Lead Production.xls\n",
      "Renamed C:\\Users\\jayja\\Downloads\\Magnesium.xls to C:\\Users\\jayja\\Downloads\\Magnesium.xls\n",
      "Renamed C:\\Users\\jayja\\Downloads\\Zinc Production.xls to C:\\Users\\jayja\\Downloads\\Zinc Production.xls\n",
      "Renamed C:\\Users\\jayja\\Downloads\\Other Metals.xls to C:\\Users\\jayja\\Downloads\\Other Metals.xls\n",
      "Renamed C:\\Users\\jayja\\Downloads\\Pulp and Paper Manufacturers.xls to C:\\Users\\jayja\\Downloads\\Pulp and Paper Manufacturers.xls\n",
      "Renamed C:\\Users\\jayja\\Downloads\\Other Paper Producers.xls to C:\\Users\\jayja\\Downloads\\Other Paper Producers.xls\n"
     ]
    }
   ],
   "source": [
    "# Get list of all .xls files in Downloads folder\n",
    "xls_files = glob.glob(os.path.join(path, \"*.xls\"))\n",
    "\n",
    "# Sort by modification time (latest last)\n",
    "xls_files.sort(key=os.path.getmtime, reverse=True)\n",
    "\n",
    "# Select only the most recent N files, where N = number of sectors selected\n",
    "recent_files = xls_files[:len(subsector_names)]  # All_Sectors must come from BeautifulSoup\n",
    "\n",
    "# Reverse to align with sector iteration order (since you downloaded in sequence)\n",
    "recent_files.reverse()\n",
    "\n",
    "# Rename based on sector/subsector name\n",
    "for i, subsector in enumerate(subsector_names):\n",
    "    safe_name = sanitize_filename(subsector)\n",
    "    original = recent_files[i]\n",
    "    renamed = os.path.join(path, f\"{safe_name}.xls\")\n",
    "\n",
    "    try:\n",
    "        os.rename(original, renamed)\n",
    "        print(f\"Renamed {original} to {renamed}\")\n",
    "    except Exception as e:\n",
    "        print(f\"Error renaming file: {e}\")"
   ]
  },
  {
   "cell_type": "code",
   "execution_count": null,
   "metadata": {},
   "outputs": [
    {
     "name": "stdout",
     "output_type": "stream",
     "text": [
      "Saved modified file to: c:\\Users\\jayja\\Documents\\projects\\ghg_explorer\\ghg_explorer\\data\\raw\\Subsector\\Other Paper Producers.xlsx\n",
      "Saved modified file to: c:\\Users\\jayja\\Documents\\projects\\ghg_explorer\\ghg_explorer\\data\\raw\\Subsector\\Pulp and Paper Manufacturers.xlsx\n",
      "Saved modified file to: c:\\Users\\jayja\\Documents\\projects\\ghg_explorer\\ghg_explorer\\data\\raw\\Subsector\\Other Metals.xlsx\n",
      "Saved modified file to: c:\\Users\\jayja\\Documents\\projects\\ghg_explorer\\ghg_explorer\\data\\raw\\Subsector\\Zinc Production.xlsx\n",
      "Saved modified file to: c:\\Users\\jayja\\Documents\\projects\\ghg_explorer\\ghg_explorer\\data\\raw\\Subsector\\Magnesium.xlsx\n",
      "Saved modified file to: c:\\Users\\jayja\\Documents\\projects\\ghg_explorer\\ghg_explorer\\data\\raw\\Subsector\\Lead Production.xlsx\n",
      "Saved modified file to: c:\\Users\\jayja\\Documents\\projects\\ghg_explorer\\ghg_explorer\\data\\raw\\Subsector\\Iron & Steel Production.xlsx\n",
      "Saved modified file to: c:\\Users\\jayja\\Documents\\projects\\ghg_explorer\\ghg_explorer\\data\\raw\\Subsector\\Ferroalloy Production.xlsx\n",
      "Saved modified file to: c:\\Users\\jayja\\Documents\\projects\\ghg_explorer\\ghg_explorer\\data\\raw\\Subsector\\Aluminum Production.xlsx\n",
      "Saved modified file to: c:\\Users\\jayja\\Documents\\projects\\ghg_explorer\\ghg_explorer\\data\\raw\\Subsector\\Solid Waste Combustion.xlsx\n",
      "Saved modified file to: c:\\Users\\jayja\\Documents\\projects\\ghg_explorer\\ghg_explorer\\data\\raw\\Subsector\\Wastewater Treatment.xlsx\n",
      "Saved modified file to: c:\\Users\\jayja\\Documents\\projects\\ghg_explorer\\ghg_explorer\\data\\raw\\Subsector\\Industrial Landfills.xlsx\n",
      "Saved modified file to: c:\\Users\\jayja\\Documents\\projects\\ghg_explorer\\ghg_explorer\\data\\raw\\Subsector\\Municipal Landfills.xlsx\n",
      "Saved modified file to: c:\\Users\\jayja\\Documents\\projects\\ghg_explorer\\ghg_explorer\\data\\raw\\Subsector\\Other Minerals.xlsx\n",
      "Saved modified file to: c:\\Users\\jayja\\Documents\\projects\\ghg_explorer\\ghg_explorer\\data\\raw\\Subsector\\Soda Ash Manufacturing.xlsx\n",
      "Saved modified file to: c:\\Users\\jayja\\Documents\\projects\\ghg_explorer\\ghg_explorer\\data\\raw\\Subsector\\Lime Manufacturing.xlsx\n",
      "Saved modified file to: c:\\Users\\jayja\\Documents\\projects\\ghg_explorer\\ghg_explorer\\data\\raw\\Subsector\\Glass Production.xlsx\n",
      "Saved modified file to: c:\\Users\\jayja\\Documents\\projects\\ghg_explorer\\ghg_explorer\\data\\raw\\Subsector\\Cement Production.xlsx\n",
      "Saved modified file to: c:\\Users\\jayja\\Documents\\projects\\ghg_explorer\\ghg_explorer\\data\\raw\\Subsector\\Other.xlsx\n",
      "Saved modified file to: c:\\Users\\jayja\\Documents\\projects\\ghg_explorer\\ghg_explorer\\data\\raw\\Subsector\\Electrical Equipment Manufacturers.xlsx\n",
      "Saved modified file to: c:\\Users\\jayja\\Documents\\projects\\ghg_explorer\\ghg_explorer\\data\\raw\\Subsector\\Electronics Manufacturing.xlsx\n",
      "Saved modified file to: c:\\Users\\jayja\\Documents\\projects\\ghg_explorer\\ghg_explorer\\data\\raw\\Subsector\\Use of Electical Equipment.xlsx\n",
      "Saved modified file to: c:\\Users\\jayja\\Documents\\projects\\ghg_explorer\\ghg_explorer\\data\\raw\\Subsector\\Military.xlsx\n",
      "Saved modified file to: c:\\Users\\jayja\\Documents\\projects\\ghg_explorer\\ghg_explorer\\data\\raw\\Subsector\\Manufacturing.xlsx\n",
      "Saved modified file to: c:\\Users\\jayja\\Documents\\projects\\ghg_explorer\\ghg_explorer\\data\\raw\\Subsector\\Universities.xlsx\n",
      "Saved modified file to: c:\\Users\\jayja\\Documents\\projects\\ghg_explorer\\ghg_explorer\\data\\raw\\Subsector\\Ethanol Production.xlsx\n",
      "Saved modified file to: c:\\Users\\jayja\\Documents\\projects\\ghg_explorer\\ghg_explorer\\data\\raw\\Subsector\\Food Processing.xlsx\n",
      "Saved modified file to: c:\\Users\\jayja\\Documents\\projects\\ghg_explorer\\ghg_explorer\\data\\raw\\Subsector\\Underground Coal Mines.xlsx\n",
      "Saved modified file to: c:\\Users\\jayja\\Documents\\projects\\ghg_explorer\\ghg_explorer\\data\\raw\\Subsector\\Other Chemicals.xlsx\n",
      "Saved modified file to: c:\\Users\\jayja\\Documents\\projects\\ghg_explorer\\ghg_explorer\\data\\raw\\Subsector\\Titanium Dioxide Production.xlsx\n",
      "Saved modified file to: c:\\Users\\jayja\\Documents\\projects\\ghg_explorer\\ghg_explorer\\data\\raw\\Subsector\\Silicon Carbide Production.xlsx\n",
      "Saved modified file to: c:\\Users\\jayja\\Documents\\projects\\ghg_explorer\\ghg_explorer\\data\\raw\\Subsector\\Phosphoric Acid Production.xlsx\n",
      "Saved modified file to: c:\\Users\\jayja\\Documents\\projects\\ghg_explorer\\ghg_explorer\\data\\raw\\Subsector\\Petrochemical Production.xlsx\n",
      "Saved modified file to: c:\\Users\\jayja\\Documents\\projects\\ghg_explorer\\ghg_explorer\\data\\raw\\Subsector\\Nitric Acid Production.xlsx\n",
      "Saved modified file to: c:\\Users\\jayja\\Documents\\projects\\ghg_explorer\\ghg_explorer\\data\\raw\\Subsector\\Hydrogen Production.xlsx\n",
      "Saved modified file to: c:\\Users\\jayja\\Documents\\projects\\ghg_explorer\\ghg_explorer\\data\\raw\\Subsector\\HCFC-22 Prod_HFC-23 Dest.xlsx\n",
      "Saved modified file to: c:\\Users\\jayja\\Documents\\projects\\ghg_explorer\\ghg_explorer\\data\\raw\\Subsector\\Fluorinated GHG Production.xlsx\n",
      "Saved modified file to: c:\\Users\\jayja\\Documents\\projects\\ghg_explorer\\ghg_explorer\\data\\raw\\Subsector\\Ammonia Manufacturing.xlsx\n",
      "Saved modified file to: c:\\Users\\jayja\\Documents\\projects\\ghg_explorer\\ghg_explorer\\data\\raw\\Subsector\\Adipic Acid Production.xlsx\n",
      "Saved modified file to: c:\\Users\\jayja\\Documents\\projects\\ghg_explorer\\ghg_explorer\\data\\raw\\Subsector\\Other Petroleum & Natural Gas Systems.xlsx\n",
      "Saved modified file to: c:\\Users\\jayja\\Documents\\projects\\ghg_explorer\\ghg_explorer\\data\\raw\\Subsector\\Liquefied Natural Gas Imp_Exp Equipment.xlsx\n",
      "Saved modified file to: c:\\Users\\jayja\\Documents\\projects\\ghg_explorer\\ghg_explorer\\data\\raw\\Subsector\\Liquefied Natural Gas Storage.xlsx\n",
      "Saved modified file to: c:\\Users\\jayja\\Documents\\projects\\ghg_explorer\\ghg_explorer\\data\\raw\\Subsector\\Underground Natural Gas Storage.xlsx\n",
      "Saved modified file to: c:\\Users\\jayja\\Documents\\projects\\ghg_explorer\\ghg_explorer\\data\\raw\\Subsector\\Natural Gas Local Distribution Companies.xlsx\n",
      "Saved modified file to: c:\\Users\\jayja\\Documents\\projects\\ghg_explorer\\ghg_explorer\\data\\raw\\Subsector\\Onshore Natural Gas Transmission Pipelines.xlsx\n",
      "Saved modified file to: c:\\Users\\jayja\\Documents\\projects\\ghg_explorer\\ghg_explorer\\data\\raw\\Subsector\\Natural Gas Transmission_Compression.xlsx\n",
      "Saved modified file to: c:\\Users\\jayja\\Documents\\projects\\ghg_explorer\\ghg_explorer\\data\\raw\\Subsector\\Natural Gas Processing.xlsx\n",
      "Saved modified file to: c:\\Users\\jayja\\Documents\\projects\\ghg_explorer\\ghg_explorer\\data\\raw\\Subsector\\Onshore Petroleum & Natural Gas Gathering & Boosting.xlsx\n",
      "Saved modified file to: c:\\Users\\jayja\\Documents\\projects\\ghg_explorer\\ghg_explorer\\data\\raw\\Subsector\\Onshore Petroleum & Natural Gas Production.xlsx\n",
      "Saved modified file to: c:\\Users\\jayja\\Documents\\projects\\ghg_explorer\\ghg_explorer\\data\\raw\\Subsector\\Offshore Petroleum & Natural Gas Production.xlsx\n"
     ]
    }
   ],
   "source": [
    "# Get list of all .xls files in Downloads folder\n",
    "list_of_files = glob.glob(os.path.join(path, \"*.xls\"))\n",
    "\n",
    "# Sort by modification time (latest last)\n",
    "list_of_files.sort(key=os.path.getmtime, reverse=True)\n",
    "\n",
    "for file in list_of_files:\n",
    "    file_name = os.path.splitext(os.path.basename(file))[0]\n",
    "    all_df = pd.read_excel(file, header=6,sheet_name=None)\n",
    "\n",
    "    combined_sheet = []\n",
    "    for sheet,df in all_df.items():\n",
    "        if not df.dropna(how='all').empty:\n",
    "            # Add a column for the sheet name\n",
    "            df[\"SUBSECTOR_TYPE\"] = file_name\n",
    "            combined_sheet.append(df)  \n",
    "\n",
    "    if combined_sheet:\n",
    "        combined_df = pd.concat(combined_sheet, ignore_index=True)\n",
    "        excel_path = os.path.join(subsector_folder, f\"{file_name}.xlsx\")\n",
    "        combined_df.to_excel(excel_path, index=False)\n",
    "        print(f\"Saved modified file to: {excel_path}\")\n",
    "    else:\n",
    "        print(f\"No valid data found in {file}, skipping save.\")\n",
    "    # Optionally delete original\n",
    "    os.remove(file)"
   ]
  },
  {
   "cell_type": "code",
   "execution_count": null,
   "metadata": {},
   "outputs": [],
   "source": []
  }
 ],
 "metadata": {
  "kernelspec": {
   "display_name": "Python 3",
   "language": "python",
   "name": "python3"
  },
  "language_info": {
   "codemirror_mode": {
    "name": "ipython",
    "version": 3
   },
   "file_extension": ".py",
   "mimetype": "text/x-python",
   "name": "python",
   "nbconvert_exporter": "python",
   "pygments_lexer": "ipython3",
   "version": "3.13.1"
  }
 },
 "nbformat": 4,
 "nbformat_minor": 2
}
