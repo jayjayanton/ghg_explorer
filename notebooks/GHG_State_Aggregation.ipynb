{
 "cells": [
  {
   "cell_type": "code",
   "execution_count": 5,
   "id": "58a816ca",
   "metadata": {},
   "outputs": [],
   "source": [
    "import os\n",
    "import pandas as pd\n",
    "import glob"
   ]
  },
  {
   "cell_type": "code",
   "execution_count": 6,
   "id": "5646be4e",
   "metadata": {},
   "outputs": [],
   "source": [
    "def get_project_root():\n",
    "    \"\"\"\n",
    "    Sets working directory to the notebook's location and returns the project root\n",
    "    (assumes the notebook is inside the /notebooks directory of your project).\n",
    "    :return: absolute path to the project root directory\n",
    "    \"\"\"\n",
    "    try:\n",
    "        # Use IPython magic to get the notebook's current directory\n",
    "        from IPython import get_ipython\n",
    "        ipython = get_ipython()\n",
    "\n",
    "        if ipython:\n",
    "            notebook_dir = ipython.run_line_magic(\"pwd\", \"\")\n",
    "            os.chdir(notebook_dir)\n",
    "            \n",
    "    except Exception as e:\n",
    "        print(f\"Warning: Failed to change working directory: {e}\")\n",
    "\n",
    "    # Project root is assumed to be one level up from notebooks/\n",
    "    working_dir = os.path.abspath(os.path.join(os.getcwd(), '..'))\n",
    "    print(f\"Working directory set to: {working_dir}\")\n",
    "    return working_dir\n",
    "\n",
    "def create_output_dirs(base_dir, subfolders):\n",
    "    \"\"\"\n",
    "    Create data output subfolders like Sector and Subsector inside processed/.\n",
    "\n",
    "    :param base_dir: base path where to create folders (e.g. data/processed)\n",
    "    :param subfolders: list of folder names\n",
    "    :return: dict of full paths {folder_name: full_path}\n",
    "    \"\"\"\n",
    "    os.makedirs(base_dir, exist_ok=True)\n",
    "    paths = {}\n",
    "    for folder in subfolders:\n",
    "        path = os.path.join(base_dir, folder)\n",
    "        os.makedirs(path, exist_ok=True)\n",
    "        paths[folder] = path\n",
    "    return paths"
   ]
  },
  {
   "cell_type": "code",
   "execution_count": null,
   "id": "6301f387",
   "metadata": {},
   "outputs": [
    {
     "name": "stdout",
     "output_type": "stream",
     "text": [
      "Working directory set to: c:\\Users\\jayja\\Documents\\projects\\ghg_explorer\\ghg_explorer\n"
     ]
    }
   ],
   "source": [
    "# Path to cleaned sector files\n",
    "project_root = get_project_root()\n",
    "\n",
    "subfolders = ['By_State_Sectors']\n",
    "state_path = os.path.join(project_root, 'data', 'processed')\n",
    "# Create output directories\n",
    "paths = create_output_dirs(state_path, subfolders)\n"
   ]
  },
  {
   "cell_type": "code",
   "execution_count": 10,
   "id": "850982ed",
   "metadata": {},
   "outputs": [],
   "source": [
    "enriched_folder = os.path.join(project_root, 'data', 'raw', 'Sector', 'enriched')\n",
    "\n",
    "By_State = os.path.join(enriched_folder, \"*.xlsx\")\n",
    "\n",
    "# Load and combine all enriched Excel files\n",
    "files = glob.glob(By_State)\n",
    "df_list = [pd.read_excel(f) for f in files]\n",
    "full_df = pd.concat(df_list, ignore_index=True)\n",
    "\n"
   ]
  },
  {
   "cell_type": "markdown",
   "id": "2e3ee6ed",
   "metadata": {},
   "source": [
    "Count of facilities by State"
   ]
  },
  {
   "cell_type": "code",
   "execution_count": 11,
   "id": "95e5366e",
   "metadata": {},
   "outputs": [],
   "source": [
    "facilities_by_state = (\n",
    "    full_df.groupby(['STATE', 'SUBSECTOR_TYPE'])\n",
    "    .size()\n",
    "    .reset_index(name='Facility Count')\n",
    ")"
   ]
  },
  {
   "cell_type": "markdown",
   "id": "46badd8d",
   "metadata": {},
   "source": [
    "Emissions by State"
   ]
  },
  {
   "cell_type": "code",
   "execution_count": 12,
   "id": "5485445c",
   "metadata": {},
   "outputs": [],
   "source": [
    "emissions_by_state = (\n",
    "    full_df.groupby('STATE')['GHG QUANTITY (METRIC TONS CO2e)']\n",
    "    .sum()\n",
    "    .reset_index()\n",
    "    .sort_values(by='GHG QUANTITY (METRIC TONS CO2e)', ascending=False)\n",
    ")"
   ]
  },
  {
   "cell_type": "markdown",
   "id": "13d2cb5d",
   "metadata": {},
   "source": [
    "Count by Sector"
   ]
  },
  {
   "cell_type": "code",
   "execution_count": 13,
   "id": "3475bd87",
   "metadata": {},
   "outputs": [],
   "source": [
    "facilities_by_sector = (\n",
    "    full_df.groupby(['STATE', 'INDUSTRY TYPE'])\n",
    "    .size()\n",
    "    .reset_index(name='Facility Count')\n",
    ")"
   ]
  },
  {
   "cell_type": "code",
   "execution_count": 15,
   "id": "d51721ba",
   "metadata": {},
   "outputs": [
    {
     "name": "stdout",
     "output_type": "stream",
     "text": [
      "Data processing complete. Files saved in: c:\\Users\\jayja\\Documents\\projects\\ghg_explorer\\ghg_explorer\\data\\processed\\By_State_Sectors\n"
     ]
    }
   ],
   "source": [
    "facilities_by_state.to_excel(os.path.join(paths['By_State_Sectors'], 'facilities_by_state.xlsx'), index=False)\n",
    "emissions_by_state.to_excel(os.path.join(paths['By_State_Sectors'], 'emissions_by_state.xlsx'), index=False)    \n",
    "facilities_by_sector.to_excel(os.path.join(paths['By_State_Sectors'], 'facilities_by_sector.xlsx'), index=False)\n",
    "print(\"Data processing complete. Files saved in:\", paths['By_State_Sectors'])\n",
    "# End of script"
   ]
  }
 ],
 "metadata": {
  "kernelspec": {
   "display_name": "Python 3",
   "language": "python",
   "name": "python3"
  },
  "language_info": {
   "codemirror_mode": {
    "name": "ipython",
    "version": 3
   },
   "file_extension": ".py",
   "mimetype": "text/x-python",
   "name": "python",
   "nbconvert_exporter": "python",
   "pygments_lexer": "ipython3",
   "version": "3.13.1"
  }
 },
 "nbformat": 4,
 "nbformat_minor": 5
}
